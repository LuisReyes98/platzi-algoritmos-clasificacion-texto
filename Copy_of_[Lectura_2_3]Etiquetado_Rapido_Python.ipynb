{
  "cells": [
    {
      "cell_type": "markdown",
      "metadata": {
        "id": "Bu9C9XvfOl_J"
      },
      "source": [
        "# Etiquetado en NLTK"
      ]
    },
    {
      "cell_type": "markdown",
      "metadata": {
        "id": "5AlvswJiYTdj"
      },
      "source": [
        "## Pipeline básico para Ingles"
      ]
    },
    {
      "cell_type": "code",
      "execution_count": 1,
      "metadata": {
        "colab": {
          "base_uri": "https://localhost:8080/"
        },
        "id": "Tmb2Cr7v92E7",
        "outputId": "c21a90df-edb1-4ef4-9a25-a96714509318"
      },
      "outputs": [
        {
          "name": "stderr",
          "output_type": "stream",
          "text": [
            "[nltk_data] Downloading package punkt to /home/luis/nltk_data...\n",
            "[nltk_data]   Package punkt is already up-to-date!\n",
            "[nltk_data] Downloading package averaged_perceptron_tagger to\n",
            "[nltk_data]     /home/luis/nltk_data...\n",
            "[nltk_data]   Package averaged_perceptron_tagger is already up-to-\n",
            "[nltk_data]       date!\n"
          ]
        }
      ],
      "source": [
        "#@title Dependencias previas\n",
        "import nltk\n",
        "nltk.download('punkt')\n",
        "nltk.download('averaged_perceptron_tagger')\n",
        "from nltk import word_tokenize"
      ]
    },
    {
      "cell_type": "code",
      "execution_count": 2,
      "metadata": {
        "colab": {
          "base_uri": "https://localhost:8080/"
        },
        "id": "8lefQX__OtfL",
        "outputId": "c5a46fa6-3b32-4c7d-98cd-421313a3173e"
      },
      "outputs": [
        {
          "data": {
            "text/plain": [
              "[('And', 'CC'),\n",
              " ('now', 'RB'),\n",
              " ('here', 'RB'),\n",
              " ('is', 'VBZ'),\n",
              " ('the', 'DT'),\n",
              " ('example', 'NN'),\n",
              " ('of', 'IN'),\n",
              " ('the', 'DT'),\n",
              " ('class', 'NN'),\n",
              " ('today', 'NN')]"
            ]
          },
          "execution_count": 2,
          "metadata": {},
          "output_type": "execute_result"
        }
      ],
      "source": [
        "#@title Etiquetado en una línea ...\n",
        "\n",
        "text = word_tokenize(\"And now here is the example of the class today\")\n",
        "# text = word_tokenize(\"And now here I am enjoying today\")\n",
        "nltk.pos_tag(text)"
      ]
    },
    {
      "cell_type": "code",
      "execution_count": 3,
      "metadata": {
        "id": "qocvMilXPdXs"
      },
      "outputs": [
        {
          "name": "stdout",
          "output_type": "stream",
          "text": [
            "CC: conjunction, coordinating\n",
            "    & 'n and both but either et for less minus neither nor or plus so\n",
            "    therefore times v. versus vs. whether yet\n",
            "None\n",
            "RB: adverb\n",
            "    occasionally unabatingly maddeningly adventurously professedly\n",
            "    stirringly prominently technologically magisterially predominately\n",
            "    swiftly fiscally pitilessly ...\n",
            "None\n",
            "PRP: pronoun, personal\n",
            "    hers herself him himself hisself it itself me myself one oneself ours\n",
            "    ourselves ownself self she thee theirs them themselves they thou thy us\n",
            "None\n",
            "VBP: verb, present tense, not 3rd person singular\n",
            "    predominate wrap resort sue twist spill cure lengthen brush terminate\n",
            "    appear tend stray glisten obtain comprise detest tease attract\n",
            "    emphasize mold postpone sever return wag ...\n",
            "None\n",
            "VBG: verb, present participle or gerund\n",
            "    telegraphing stirring focusing angering judging stalling lactating\n",
            "    hankerin' alleging veering capping approaching traveling besieging\n",
            "    encrypting interrupting erasing wincing ...\n",
            "None\n",
            "NN: noun, common, singular or mass\n",
            "    common-carrier cabbage knuckle-duster Casino afghan shed thermostat\n",
            "    investment slide humour falloff slick wind hyena override subhumanity\n",
            "    machinist ...\n",
            "None\n"
          ]
        },
        {
          "name": "stderr",
          "output_type": "stream",
          "text": [
            "[nltk_data] Downloading package tagsets to /home/luis/nltk_data...\n",
            "[nltk_data]   Package tagsets is already up-to-date!\n"
          ]
        }
      ],
      "source": [
        "#@title Categoria gramatical de cada etiqueta\n",
        "nltk.download('tagsets')\n",
        "for tag in ['CC', 'RB', 'PRP', 'VBP', 'VBG', 'NN']:\n",
        "  print(nltk.help.upenn_tagset(tag))"
      ]
    },
    {
      "cell_type": "code",
      "execution_count": 4,
      "metadata": {
        "colab": {
          "base_uri": "https://localhost:8080/"
        },
        "id": "ypIhOsfKMr64",
        "outputId": "3227e404-8c1d-4949-aa51-98d9d43da087"
      },
      "outputs": [
        {
          "name": "stdout",
          "output_type": "stream",
          "text": [
            "CC: conjunction, coordinating\n",
            "    & 'n and both but either et for less minus neither nor or plus so\n",
            "    therefore times v. versus vs. whether yet\n",
            "None\n",
            "RB: adverb\n",
            "    occasionally unabatingly maddeningly adventurously professedly\n",
            "    stirringly prominently technologically magisterially predominately\n",
            "    swiftly fiscally pitilessly ...\n",
            "None\n",
            "PRP: pronoun, personal\n",
            "    hers herself him himself hisself it itself me myself one oneself ours\n",
            "    ourselves ownself self she thee theirs them themselves they thou thy us\n",
            "None\n"
          ]
        },
        {
          "name": "stderr",
          "output_type": "stream",
          "text": [
            "[nltk_data] Downloading package tagsets to /home/luis/nltk_data...\n",
            "[nltk_data]   Package tagsets is already up-to-date!\n"
          ]
        }
      ],
      "source": [
        "# descargamos los conjuntos de etiquetas que son\n",
        "# la metadata de que significa cada etiqueta\n",
        "nltk.download('tagsets')\n",
        "for tag in ['CC', 'RB', 'PRP']:\n",
        "  print(nltk.help.upenn_tagset(tag))"
      ]
    },
    {
      "attachments": {},
      "cell_type": "markdown",
      "metadata": {},
      "source": [
        "### Palabras homónimas"
      ]
    },
    {
      "cell_type": "code",
      "execution_count": 5,
      "metadata": {
        "colab": {
          "base_uri": "https://localhost:8080/",
          "height": 181
        },
        "id": "MEo2MWrkPqrO",
        "outputId": "3a57539a-8a0f-4476-e722-c65014e43926"
      },
      "outputs": [
        {
          "data": {
            "text/plain": [
              "[('They', 'PRP'),\n",
              " ('do', 'VBP'),\n",
              " ('not', 'RB'),\n",
              " ('permit', 'VB'),\n",
              " ('other', 'JJ'),\n",
              " ('people', 'NNS'),\n",
              " ('to', 'TO'),\n",
              " ('get', 'VB'),\n",
              " ('a', 'DT'),\n",
              " ('residence', 'NN'),\n",
              " ('permit', 'NN')]"
            ]
          },
          "execution_count": 5,
          "metadata": {},
          "output_type": "execute_result"
        }
      ],
      "source": [
        "#@title Palabras homónimas\n",
        "text = word_tokenize(\"They do not permit other people to get a residence permit\")\n",
        "nltk.pos_tag(text)"
      ]
    },
    {
      "cell_type": "markdown",
      "metadata": {
        "id": "EIIi46WzYZvc"
      },
      "source": [
        "## Etiquetado en Español \n",
        "\n",
        "Para el ingles, NLTK tiene tokenizador y etiquetador pre-entrenados por defecto. En cambio, para otros idiomas es preciso entrenarlo previamente. \n",
        "\n",
        "* usamos el corpus `cess_esp` https://mailman.uib.no/public/corpora/2007-October/005448.html\n",
        "\n",
        "* el cual usa una convención de etiquetas gramaticales dada por el grupo EAGLES https://www.cs.upc.edu/~nlp/tools/parole-sp.html"
      ]
    },
    {
      "cell_type": "code",
      "execution_count": 6,
      "metadata": {
        "colab": {
          "base_uri": "https://localhost:8080/",
          "height": 49
        },
        "id": "1uLX4KgDX-cs",
        "outputId": "37b51208-4c6c-4ca7-a969-c67a9ac040c0"
      },
      "outputs": [
        {
          "name": "stderr",
          "output_type": "stream",
          "text": [
            "[nltk_data] Downloading package cess_esp to /home/luis/nltk_data...\n",
            "[nltk_data]   Package cess_esp is already up-to-date!\n"
          ]
        }
      ],
      "source": [
        "nltk.download('cess_esp')\n",
        "from nltk.corpus import cess_esp as cess\n",
        "from nltk import UnigramTagger as ut\n",
        "from nltk import BigramTagger as bt"
      ]
    },
    {
      "attachments": {},
      "cell_type": "markdown",
      "metadata": {},
      "source": [
        "### Entrenamiendo del tagger por unigramas"
      ]
    },
    {
      "cell_type": "code",
      "execution_count": 11,
      "metadata": {
        "colab": {
          "base_uri": "https://localhost:8080/",
          "height": 32
        },
        "id": "mFi7BLojYw-F",
        "outputId": "35b1c62f-46fe-4f5d-f8b9-2ee0525e7083"
      },
      "outputs": [
        {
          "name": "stderr",
          "output_type": "stream",
          "text": [
            "/tmp/ipykernel_2229/3254335735.py:7: DeprecationWarning: \n",
            "  Function evaluate() has been deprecated.  Use accuracy(gold)\n",
            "  instead.\n",
            "  uni_tagger.evaluate(cess_sents[fraction+1:]) # lo evaluamos sobre el 10% restante\n"
          ]
        },
        {
          "data": {
            "text/plain": [
              "0.8069484240687679"
            ]
          },
          "execution_count": 11,
          "metadata": {},
          "output_type": "execute_result"
        }
      ],
      "source": [
        "#@title Entrenamiendo del tagger por unigramas\n",
        "cess_sents = cess.tagged_sents()\n",
        "\n",
        "fraction = int(len(cess_sents)*90/100) # 90% del dataset\n",
        "# fraction del dataset\n",
        "uni_tagger = ut(cess_sents[:fraction]) # entrenamos el etiquetador sobre el 90% del dataset\n",
        "uni_tagger.evaluate(cess_sents[fraction+1:]) # lo evaluamos sobre el 10% restante"
      ]
    },
    {
      "cell_type": "code",
      "execution_count": 12,
      "metadata": {},
      "outputs": [
        {
          "data": {
            "text/plain": [
              "[('A', 'sps00'),\n",
              " ('mi', 'dp1css'),\n",
              " ('me', 'pp1cs000'),\n",
              " ('gusta', 'vmip3s0'),\n",
              " ('correr', 'vmn0000'),\n",
              " ('por', 'sps00'),\n",
              " ('la', 'da0fs0'),\n",
              " ('tarde.', None)]"
            ]
          },
          "execution_count": 12,
          "metadata": {},
          "output_type": "execute_result"
        }
      ],
      "source": [
        "uni_tagger.tag(\"A mi me gusta correr por la tarde.\".split())"
      ]
    },
    {
      "cell_type": "code",
      "execution_count": 14,
      "metadata": {
        "colab": {
          "base_uri": "https://localhost:8080/",
          "height": 115
        },
        "id": "HHA32_xVg81K",
        "outputId": "55a64d99-9465-4337-f6ee-42bafd25cb84"
      },
      "outputs": [
        {
          "data": {
            "text/plain": [
              "[('Yo', 'pp1csn00'),\n",
              " ('soy', 'vsip1s0'),\n",
              " ('una', 'di0fs0'),\n",
              " ('persona', 'ncfs000'),\n",
              " ('muy', 'rg'),\n",
              " ('amable', None)]"
            ]
          },
          "execution_count": 14,
          "metadata": {},
          "output_type": "execute_result"
        }
      ],
      "source": [
        "uni_tagger.tag(\"Yo soy una persona muy amable\".split(\" \"))"
      ]
    },
    {
      "attachments": {},
      "cell_type": "markdown",
      "metadata": {},
      "source": [
        "## Entrenamiento del tagger por bigramas"
      ]
    },
    {
      "cell_type": "code",
      "execution_count": 15,
      "metadata": {
        "colab": {
          "base_uri": "https://localhost:8080/",
          "height": 32
        },
        "id": "kDIt1k1ubB9D",
        "outputId": "cffe9d86-fd47-4c4a-d57f-69702843f307"
      },
      "outputs": [
        {
          "name": "stderr",
          "output_type": "stream",
          "text": [
            "/tmp/ipykernel_2229/3829010840.py:4: DeprecationWarning: \n",
            "  Function evaluate() has been deprecated.  Use accuracy(gold)\n",
            "  instead.\n",
            "  bi_tagger.evaluate(cess_sents[fraction + 1:],)  # evaluamos el resultado sobre el 10% restante\n"
          ]
        },
        {
          "data": {
            "text/plain": [
              "0.1095272206303725"
            ]
          },
          "execution_count": 15,
          "metadata": {},
          "output_type": "execute_result"
        }
      ],
      "source": [
        "#@title Entrenamiento del tagger por bigramas\n",
        "fraction = int(len(cess_sents)*90/100) # 90% del dataset\n",
        "bi_tagger = bt(cess_sents[:fraction]) # entrenamos el etiquetador sobre el 90% del dataset\n",
        "bi_tagger.evaluate(cess_sents[fraction + 1:],)  # evaluamos el resultado sobre el 10% restante\n"
      ]
    },
    {
      "cell_type": "code",
      "execution_count": 16,
      "metadata": {
        "colab": {
          "base_uri": "https://localhost:8080/",
          "height": 115
        },
        "id": "nLCTRHeHfiY3",
        "outputId": "bfc54ac9-6a05-4a2b-d541-72382d29bd94"
      },
      "outputs": [
        {
          "data": {
            "text/plain": [
              "[('Yo', 'pp1csn00'),\n",
              " ('soy', 'vsip1s0'),\n",
              " ('una', None),\n",
              " ('persona', None),\n",
              " ('muy', None),\n",
              " ('amable', None)]"
            ]
          },
          "execution_count": 16,
          "metadata": {},
          "output_type": "execute_result"
        }
      ],
      "source": [
        "bi_tagger.tag(\"Yo soy una persona muy amable\".split(\" \"))"
      ]
    },
    {
      "cell_type": "code",
      "execution_count": 17,
      "metadata": {},
      "outputs": [
        {
          "data": {
            "text/plain": [
              "[('A', 'sps00'),\n",
              " ('mi', 'dp1css'),\n",
              " ('me', None),\n",
              " ('gusta', None),\n",
              " ('correr', None),\n",
              " ('por', None),\n",
              " ('la', None),\n",
              " ('tarde.', None)]"
            ]
          },
          "execution_count": 17,
          "metadata": {},
          "output_type": "execute_result"
        }
      ],
      "source": [
        "bi_tagger.tag(\"A mi me gusta correr por la tarde.\".split())"
      ]
    },
    {
      "attachments": {},
      "cell_type": "markdown",
      "metadata": {},
      "source": [
        "el etiquetado por bigramas no es muy bueno y no se recomienda usarlo"
      ]
    },
    {
      "cell_type": "code",
      "execution_count": 18,
      "metadata": {},
      "outputs": [],
      "source": [
        "# cess_sents = cess.tagged_sents()\n",
        "uni_tagger_100 = ut(cess_sents)"
      ]
    },
    {
      "cell_type": "code",
      "execution_count": 20,
      "metadata": {},
      "outputs": [
        {
          "data": {
            "text/plain": [
              "[('A', 'sps00'),\n",
              " ('mi', 'dp1css'),\n",
              " ('me', 'pp1cs000'),\n",
              " ('gusta', 'vmip3s0'),\n",
              " ('correr', 'vmn0000'),\n",
              " ('por', 'sps00'),\n",
              " ('la', 'da0fs0'),\n",
              " ('tarde.', None)]"
            ]
          },
          "execution_count": 20,
          "metadata": {},
          "output_type": "execute_result"
        }
      ],
      "source": [
        "uni_tagger_100.tag(\"A mi me gusta correr por la tarde.\".split())\n"
      ]
    },
    {
      "cell_type": "code",
      "execution_count": 21,
      "metadata": {},
      "outputs": [
        {
          "data": {
            "text/plain": [
              "[('Yo', 'pp1csn00'),\n",
              " ('soy', 'vsip1s0'),\n",
              " ('una', 'di0fs0'),\n",
              " ('persona', 'ncfs000'),\n",
              " ('muy', 'rg'),\n",
              " ('amable', 'aq0cs0')]"
            ]
          },
          "execution_count": 21,
          "metadata": {},
          "output_type": "execute_result"
        }
      ],
      "source": [
        "uni_tagger_100.tag(\"Yo soy una persona muy amable\".split(\" \"))\n"
      ]
    },
    {
      "cell_type": "markdown",
      "metadata": {
        "id": "m50bRKLlikbx"
      },
      "source": [
        "# Etiquetado mejorado con Stanza (StanfordNLP)\n",
        "\n",
        "**¿Que es Stanza?**\n",
        "\n",
        "* El grupo de investigacion en NLP de Stanford tenía una suite de librerias que ejecutaban varias tareas de NLP, esta suite se unifico en un solo servicio que llamaron **CoreNLP** con base en codigo java: https://stanfordnlp.github.io/CoreNLP/index.html\n",
        "\n",
        "* Para python existe **StanfordNLP**: https://stanfordnlp.github.io/stanfordnlp/index.html\n",
        "\n",
        "* Sin embargo, **StanfordNLP** ha sido deprecado y las nuevas versiones de la suite de NLP reciben mantenimiento bajo el nombre de **Stanza**: https://stanfordnlp.github.io/stanza/"
      ]
    },
    {
      "cell_type": "code",
      "execution_count": null,
      "metadata": {
        "colab": {
          "base_uri": "https://localhost:8080/",
          "height": 296
        },
        "id": "WY_YTM6TirMd",
        "outputId": "241e0bb1-e160-436a-904f-7bedc7ae01e4"
      },
      "outputs": [
        {
          "name": "stdout",
          "output_type": "stream",
          "text": [
            "Collecting stanza\n",
            "\u001b[?25l  Downloading https://files.pythonhosted.org/packages/27/9c/60689521a971a57dd02d2925105efedefa9dccd76c9a0b92566683d43e89/stanza-1.0.1-py3-none-any.whl (193kB)\n",
            "\r\u001b[K     |█▊                              | 10kB 14.3MB/s eta 0:00:01\r\u001b[K     |███▍                            | 20kB 1.7MB/s eta 0:00:01\r\u001b[K     |█████                           | 30kB 2.4MB/s eta 0:00:01\r\u001b[K     |██████▉                         | 40kB 2.5MB/s eta 0:00:01\r\u001b[K     |████████▌                       | 51kB 2.0MB/s eta 0:00:01\r\u001b[K     |██████████▏                     | 61kB 2.3MB/s eta 0:00:01\r\u001b[K     |███████████▉                    | 71kB 2.5MB/s eta 0:00:01\r\u001b[K     |█████████████▋                  | 81kB 2.7MB/s eta 0:00:01\r\u001b[K     |███████████████▎                | 92kB 2.9MB/s eta 0:00:01\r\u001b[K     |█████████████████               | 102kB 2.8MB/s eta 0:00:01\r\u001b[K     |██████████████████▋             | 112kB 2.8MB/s eta 0:00:01\r\u001b[K     |████████████████████▍           | 122kB 2.8MB/s eta 0:00:01\r\u001b[K     |██████████████████████          | 133kB 2.8MB/s eta 0:00:01\r\u001b[K     |███████████████████████▊        | 143kB 2.8MB/s eta 0:00:01\r\u001b[K     |█████████████████████████▍      | 153kB 2.8MB/s eta 0:00:01\r\u001b[K     |███████████████████████████▏    | 163kB 2.8MB/s eta 0:00:01\r\u001b[K     |████████████████████████████▉   | 174kB 2.8MB/s eta 0:00:01\r\u001b[K     |██████████████████████████████▌ | 184kB 2.8MB/s eta 0:00:01\r\u001b[K     |████████████████████████████████| 194kB 2.8MB/s \n",
            "\u001b[?25hRequirement already satisfied: torch>=1.3.0 in /usr/local/lib/python3.6/dist-packages (from stanza) (1.5.1+cu101)\n",
            "Requirement already satisfied: tqdm in /usr/local/lib/python3.6/dist-packages (from stanza) (4.41.1)\n",
            "Requirement already satisfied: numpy in /usr/local/lib/python3.6/dist-packages (from stanza) (1.18.5)\n",
            "Requirement already satisfied: protobuf in /usr/local/lib/python3.6/dist-packages (from stanza) (3.10.0)\n",
            "Requirement already satisfied: requests in /usr/local/lib/python3.6/dist-packages (from stanza) (2.23.0)\n",
            "Requirement already satisfied: future in /usr/local/lib/python3.6/dist-packages (from torch>=1.3.0->stanza) (0.16.0)\n",
            "Requirement already satisfied: six>=1.9 in /usr/local/lib/python3.6/dist-packages (from protobuf->stanza) (1.12.0)\n",
            "Requirement already satisfied: setuptools in /usr/local/lib/python3.6/dist-packages (from protobuf->stanza) (47.3.1)\n",
            "Requirement already satisfied: certifi>=2017.4.17 in /usr/local/lib/python3.6/dist-packages (from requests->stanza) (2020.6.20)\n",
            "Requirement already satisfied: idna<3,>=2.5 in /usr/local/lib/python3.6/dist-packages (from requests->stanza) (2.9)\n",
            "Requirement already satisfied: chardet<4,>=3.0.2 in /usr/local/lib/python3.6/dist-packages (from requests->stanza) (3.0.4)\n",
            "Requirement already satisfied: urllib3!=1.25.0,!=1.25.1,<1.26,>=1.21.1 in /usr/local/lib/python3.6/dist-packages (from requests->stanza) (1.24.3)\n",
            "Installing collected packages: stanza\n",
            "Successfully installed stanza-1.0.1\n"
          ]
        }
      ],
      "source": [
        "!pip install stanza"
      ]
    },
    {
      "cell_type": "code",
      "execution_count": null,
      "metadata": {
        "colab": {
          "base_uri": "https://localhost:8080/",
          "height": 82
        },
        "id": "HG-Sdn6QmHgR",
        "outputId": "dcd469a4-37f0-4230-f24b-4335aea9a118"
      },
      "outputs": [
        {
          "name": "stderr",
          "output_type": "stream",
          "text": [
            "Downloading https://raw.githubusercontent.com/stanfordnlp/stanza-resources/master/resources_1.0.0.json: 115kB [00:00, 10.1MB/s]                    \n",
            "2020-07-13 01:50:46 INFO: Downloading default packages for language: es (Spanish)...\n",
            "Downloading http://nlp.stanford.edu/software/stanza/1.0.0/es/default.zip: 100%|██████████| 583M/583M [01:48<00:00, 5.36MB/s]\n",
            "2020-07-13 01:52:48 INFO: Finished downloading models and saved to /root/stanza_resources.\n"
          ]
        }
      ],
      "source": [
        "# esta parte puede demorar un poco ....\n",
        "import stanza\n",
        "stanza.download('es')"
      ]
    },
    {
      "cell_type": "code",
      "execution_count": null,
      "metadata": {
        "colab": {
          "base_uri": "https://localhost:8080/",
          "height": 214
        },
        "id": "B2sKNXawmWH7",
        "outputId": "b1cfbeea-b82c-4100-fa0c-97a9203ffbc0"
      },
      "outputs": [
        {
          "name": "stderr",
          "output_type": "stream",
          "text": [
            "2020-07-13 01:53:05 INFO: Loading these models for language: es (Spanish):\n",
            "=======================\n",
            "| Processor | Package |\n",
            "-----------------------\n",
            "| tokenize  | ancora  |\n",
            "| pos       | ancora  |\n",
            "=======================\n",
            "\n",
            "2020-07-13 01:53:06 INFO: Use device: cpu\n",
            "2020-07-13 01:53:06 INFO: Loading: tokenize\n",
            "2020-07-13 01:53:06 INFO: Loading: pos\n",
            "2020-07-13 01:53:07 INFO: Done loading processors!\n"
          ]
        }
      ],
      "source": [
        "nlp = stanza.Pipeline('es', processors='tokenize,pos')\n",
        "doc = nlp('yo soy una persona muy amable')"
      ]
    },
    {
      "cell_type": "code",
      "execution_count": null,
      "metadata": {
        "colab": {
          "base_uri": "https://localhost:8080/",
          "height": 115
        },
        "id": "86rL3IJRm1oI",
        "outputId": "d6a637a1-1f83-4cbc-b854-1be92012ddfb"
      },
      "outputs": [
        {
          "name": "stdout",
          "output_type": "stream",
          "text": [
            "yo PRON\n",
            "soy AUX\n",
            "una DET\n",
            "persona NOUN\n",
            "muy ADV\n",
            "amable ADJ\n"
          ]
        }
      ],
      "source": [
        "for sentence in doc.sentences:\n",
        "  for word in sentence.words:\n",
        "    print(word.text, word.pos)"
      ]
    },
    {
      "cell_type": "markdown",
      "metadata": {
        "id": "UsZF93NQodxX"
      },
      "source": [
        "# Referencias adicionales:\n",
        "\n",
        "* Etiquetado POS con Stanza https://stanfordnlp.github.io/stanza/pos.html#accessing-pos-and-morphological-feature-for-word\n",
        "\n",
        "* Stanza | Github: https://github.com/stanfordnlp/stanza\n",
        "\n",
        "* Articulo en ArXiv: https://arxiv.org/pdf/2003.07082.pdf"
      ]
    },
    {
      "cell_type": "code",
      "execution_count": null,
      "metadata": {
        "id": "a2gkMtDvyK_F"
      },
      "outputs": [],
      "source": []
    }
  ],
  "metadata": {
    "colab": {
      "provenance": []
    },
    "kernelspec": {
      "display_name": "ml",
      "language": "python",
      "name": "python3"
    },
    "language_info": {
      "codemirror_mode": {
        "name": "ipython",
        "version": 3
      },
      "file_extension": ".py",
      "mimetype": "text/x-python",
      "name": "python",
      "nbconvert_exporter": "python",
      "pygments_lexer": "ipython3",
      "version": "3.10.8"
    },
    "vscode": {
      "interpreter": {
        "hash": "afb1b70db904c611016fc2099f45df5cf3be837b12af04650d45f35d84bc2c94"
      }
    }
  },
  "nbformat": 4,
  "nbformat_minor": 0
}
